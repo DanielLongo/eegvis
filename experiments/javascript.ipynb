{
 "cells": [
  {
   "cell_type": "code",
   "execution_count": 2,
   "metadata": {},
   "outputs": [],
   "source": [
    "js = \"\"\"\n",
    "document.onkeydown = overrideKeyboardEvent;\n",
    "document.onkeyup = overrideKeyboardEvent;\n",
    "var keyIsDown = {};\n",
    "\n",
    "function overrideKeyboardEvent(e){\n",
    "  switch(e.type){\n",
    "    case \"keydown\":\n",
    "      if(!keyIsDown[e.keyCode]){\n",
    "        keyIsDown[e.keyCode] = true;\n",
    "        // do key down stuff here\n",
    "      }\n",
    "    break;\n",
    "    case \"keyup\":\n",
    "      delete(keyIsDown[e.keyCode]);\n",
    "      // do key up stuff here\n",
    "    break;\n",
    "  }\n",
    "  disabledEventPropagation(e);\n",
    "  e.preventDefault();\n",
    "  return false;\n",
    "}\n",
    "function disabledEventPropagation(e){\n",
    "  if(e){\n",
    "    if(e.stopPropagation){\n",
    "      e.stopPropagation();\n",
    "    } else if(window.event){\n",
    "      window.event.cancelBubble = true;\n",
    "    }\n",
    "  }\n",
    "}\"\"\""
   ]
  },
  {
   "cell_type": "code",
   "execution_count": 5,
   "metadata": {},
   "outputs": [
    {
     "data": {
      "application/javascript": [
       "document.onkeydown = overrideKeyboardEvent;\n",
       "document.onkeyup = overrideKeyboardEvent;\n",
       "var keyIsDown = {};\n",
       "\n",
       "function overrideKeyboardEvent(e){\n",
       "  switch(e.type){\n",
       "    case \"keydown\":\n",
       "      if(!keyIsDown[e.keyCode]){\n",
       "        keyIsDown[e.keyCode] = true;\n",
       "        // do key down stuff here\n",
       "        console.log(e)\n",
       "          \n",
       "      }\n",
       "    break;\n",
       "    case \"keyup\":\n",
       "      delete(keyIsDown[e.keyCode]);\n",
       "      // do key up stuff here\n",
       "    break;\n",
       "  }\n",
       "  disabledEventPropagation(e);\n",
       "  e.preventDefault();\n",
       "  return false;\n",
       "}\n",
       "function disabledEventPropagation(e){\n",
       "  if(e){\n",
       "    if(e.stopPropagation){\n",
       "      e.stopPropagation();\n",
       "    } else if(window.event){\n",
       "      window.event.cancelBubble = true;\n",
       "    }\n",
       "  }\n",
       "}"
      ],
      "text/plain": [
       "<IPython.core.display.Javascript object>"
      ]
     },
     "metadata": {},
     "output_type": "display_data"
    }
   ],
   "source": [
    "%%javascript\n",
    "document.onkeydown = overrideKeyboardEvent;\n",
    "document.onkeyup = overrideKeyboardEvent;\n",
    "var keyIsDown = {};\n",
    "\n",
    "function overrideKeyboardEvent(e){\n",
    "  switch(e.type){\n",
    "    case \"keydown\":\n",
    "      if(!keyIsDown[e.keyCode]){\n",
    "        keyIsDown[e.keyCode] = true;\n",
    "        // do key down stuff here\n",
    "        console.log(e)\n",
    "          \n",
    "      }\n",
    "    break;\n",
    "    case \"keyup\":\n",
    "      delete(keyIsDown[e.keyCode]);\n",
    "      // do key up stuff here\n",
    "    break;\n",
    "  }\n",
    "  disabledEventPropagation(e);\n",
    "  e.preventDefault();\n",
    "  return false;\n",
    "}\n",
    "function disabledEventPropagation(e){\n",
    "  if(e){\n",
    "    if(e.stopPropagation){\n",
    "      e.stopPropagation();\n",
    "    } else if(window.event){\n",
    "      window.event.cancelBubble = true;\n",
    "    }\n",
    "  }\n",
    "}"
   ]
  },
  {
   "cell_type": "code",
   "execution_count": 4,
   "metadata": {},
   "outputs": [
    {
     "ename": "NameError",
     "evalue": "name 'ffdfdsa' is not defined",
     "output_type": "error",
     "traceback": [
      "\u001b[0;31m---------------------------------------------------------------------------\u001b[0m",
      "\u001b[0;31mNameError\u001b[0m                                 Traceback (most recent call last)",
      "\u001b[0;32m<ipython-input-4-55dab7bcd281>\u001b[0m in \u001b[0;36m<module>\u001b[0;34m()\u001b[0m\n\u001b[0;32m----> 1\u001b[0;31m \u001b[0mffdfdsa\u001b[0m\u001b[0;34m\u001b[0m\u001b[0m\n\u001b[0m",
      "\u001b[0;31mNameError\u001b[0m: name 'ffdfdsa' is not defined"
     ]
    }
   ],
   "source": [
    "# if this is reached via chrome short cut like <path>/chrome.exe --app=http://localhost:5000/notebooks/code/experiments/javascript.ipynb "
   ]
  },
  {
   "cell_type": "code",
   "execution_count": null,
   "metadata": {},
   "outputs": [],
   "source": []
  }
 ],
 "metadata": {
  "kernelspec": {
   "display_name": "ana5.2plus",
   "language": "python",
   "name": "ana5.2plus"
  },
  "language_info": {
   "codemirror_mode": {
    "name": "ipython",
    "version": 3
   },
   "file_extension": ".py",
   "mimetype": "text/x-python",
   "name": "python",
   "nbconvert_exporter": "python",
   "pygments_lexer": "ipython3",
   "version": "3.6.5"
  }
 },
 "nbformat": 4,
 "nbformat_minor": 2
}
